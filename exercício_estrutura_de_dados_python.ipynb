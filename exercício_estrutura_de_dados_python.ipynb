{
  "nbformat": 4,
  "nbformat_minor": 0,
  "metadata": {
    "colab": {
      "provenance": [],
      "authorship_tag": "ABX9TyMh/2txlw8JFgIM2OfNbt45",
      "include_colab_link": true
    },
    "kernelspec": {
      "name": "python3",
      "display_name": "Python 3"
    },
    "language_info": {
      "name": "python"
    }
  },
  "cells": [
    {
      "cell_type": "markdown",
      "metadata": {
        "id": "view-in-github",
        "colab_type": "text"
      },
      "source": [
        "<a href=\"https://colab.research.google.com/github/Layzafa/programacao_python/blob/main/exerc%C3%ADcio_estrutura_de_dados_python.ipynb\" target=\"_parent\"><img src=\"https://colab.research.google.com/assets/colab-badge.svg\" alt=\"Open In Colab\"/></a>"
      ]
    },
    {
      "cell_type": "code",
      "execution_count": null,
      "metadata": {
        "id": "W_TP5b9ZFGcA"
      },
      "outputs": [],
      "source": [
        "EXERCÍCIO - ESTRUTURA DE DADOS EM PYTHON"
      ]
    },
    {
      "cell_type": "code",
      "source": [
        "Números: representam valores que podem ser do tipo int e float.\n",
        "Strings: são um conjunto de caracteres.\n",
        "Listas: são tipo array, uma estrutura de dados que é acessada por indexação.\n",
        "Tuplas: ums estruturas de dados imultável.\n",
        "Dicionários: uma estrutura de dados que é acessada por mapeamento; chave."
      ],
      "metadata": {
        "id": "X5HMnAalFNfe"
      },
      "execution_count": null,
      "outputs": []
    },
    {
      "cell_type": "code",
      "source": [
        "number = 1.00\n",
        "number**1\n",
        "number *= 1000\n",
        "number /= 10\n",
        "number += 0.25\n",
        "print(number)"
      ],
      "metadata": {
        "colab": {
          "base_uri": "https://localhost:8080/"
        },
        "id": "HzGPJT9YHlr-",
        "outputId": "28b6b00b-d94f-4b3a-feb0-c29b7c2f2c2e"
      },
      "execution_count": null,
      "outputs": [
        {
          "output_type": "stream",
          "name": "stdout",
          "text": [
            "100.25\n"
          ]
        }
      ]
    },
    {
      "cell_type": "code",
      "source": [
        "resultado = (4 * (6 + 5))\n",
        "print(resultado)"
      ],
      "metadata": {
        "colab": {
          "base_uri": "https://localhost:8080/"
        },
        "id": "NJvJqZKjK1xl",
        "outputId": "c241d8ff-049a-4104-e047-7c3855786dde"
      },
      "execution_count": null,
      "outputs": [
        {
          "output_type": "stream",
          "name": "stdout",
          "text": [
            "44\n"
          ]
        }
      ]
    },
    {
      "cell_type": "code",
      "source": [
        "resultado2 = (4 * 6 + 5)\n",
        "print(resultado2)"
      ],
      "metadata": {
        "colab": {
          "base_uri": "https://localhost:8080/"
        },
        "id": "B3NbwPcsLSrA",
        "outputId": "1dafeda0-e36b-40d9-cb79-ff5df139ded4"
      },
      "execution_count": null,
      "outputs": [
        {
          "output_type": "stream",
          "name": "stdout",
          "text": [
            "29\n"
          ]
        }
      ]
    },
    {
      "cell_type": "code",
      "source": [
        "resultado3 = (4 + 6 * 5)\n",
        "print(resultado3)"
      ],
      "metadata": {
        "colab": {
          "base_uri": "https://localhost:8080/"
        },
        "id": "9SuDIgF2Lcez",
        "outputId": "c078bd0d-8123-4963-def8-45c80f588057"
      },
      "execution_count": null,
      "outputs": [
        {
          "output_type": "stream",
          "name": "stdout",
          "text": [
            "34\n"
          ]
        }
      ]
    },
    {
      "cell_type": "code",
      "source": [
        "expressao = (3 + 1.5 + 4)\n",
        "type(expressao)\n"
      ],
      "metadata": {
        "colab": {
          "base_uri": "https://localhost:8080/"
        },
        "id": "xSvxCsjcLxvL",
        "outputId": "72d1a714-846c-4b7d-de78-d4841f106ca5"
      },
      "execution_count": null,
      "outputs": [
        {
          "output_type": "execute_result",
          "data": {
            "text/plain": [
              "float"
            ]
          },
          "metadata": {},
          "execution_count": 16
        }
      ]
    },
    {
      "cell_type": "code",
      "source": [
        "string = 'hello'\n",
        "\n",
        "print(string[-4]) #ou string[1]\n"
      ],
      "metadata": {
        "colab": {
          "base_uri": "https://localhost:8080/"
        },
        "id": "OEuK76KYL-iJ",
        "outputId": "e858a894-3e93-44da-867e-cbd0a802dee6"
      },
      "execution_count": null,
      "outputs": [
        {
          "output_type": "stream",
          "name": "stdout",
          "text": [
            "e\n"
          ]
        }
      ]
    },
    {
      "cell_type": "code",
      "source": [
        "string = 'hello'\n",
        "print(string[::-1])"
      ],
      "metadata": {
        "colab": {
          "base_uri": "https://localhost:8080/"
        },
        "id": "vq3gLIpBMo6-",
        "outputId": "38ef3140-bb6e-4088-bce8-b432518fd338"
      },
      "execution_count": null,
      "outputs": [
        {
          "output_type": "stream",
          "name": "stdout",
          "text": [
            "olleh\n"
          ]
        }
      ]
    },
    {
      "cell_type": "code",
      "source": [
        "string = 'hello'\n",
        "reverso = list(string)\n",
        "reverso.reverse()\n",
        "print(reverso)\n"
      ],
      "metadata": {
        "colab": {
          "base_uri": "https://localhost:8080/"
        },
        "id": "WbFgcpKFM8n7",
        "outputId": "caf62cc3-3c31-4023-d500-237112c797f5"
      },
      "execution_count": 1,
      "outputs": [
        {
          "output_type": "stream",
          "name": "stdout",
          "text": [
            "['o', 'l', 'l', 'e', 'h']\n"
          ]
        }
      ]
    },
    {
      "cell_type": "code",
      "source": [
        "palavra = 'hello'\n",
        "print(palavra[4]) #ou palavra[-1]"
      ],
      "metadata": {
        "colab": {
          "base_uri": "https://localhost:8080/"
        },
        "id": "G6iubywIOZs2",
        "outputId": "f812df7d-418e-465e-ab07-4433e887e7a9"
      },
      "execution_count": null,
      "outputs": [
        {
          "output_type": "stream",
          "name": "stdout",
          "text": [
            "o\n"
          ]
        }
      ]
    },
    {
      "cell_type": "code",
      "source": [
        "lista = []\n",
        "lista.append(0)\n",
        "lista.append(0)\n",
        "lista.append(0)\n",
        "print(lista)"
      ],
      "metadata": {
        "colab": {
          "base_uri": "https://localhost:8080/"
        },
        "id": "n35VavMqOrcP",
        "outputId": "34fbb63a-fe08-48de-d94a-cfcf1061506d"
      },
      "execution_count": null,
      "outputs": [
        {
          "output_type": "stream",
          "name": "stdout",
          "text": [
            "[0, 0, 0]\n"
          ]
        }
      ]
    },
    {
      "cell_type": "code",
      "source": [
        "lista = [0, 0, 0]\n",
        "print(lista)"
      ],
      "metadata": {
        "colab": {
          "base_uri": "https://localhost:8080/"
        },
        "id": "P97nVCC1Qhcp",
        "outputId": "1c7ef8c9-5736-4d75-ed44-9c315a2f6e1c"
      },
      "execution_count": null,
      "outputs": [
        {
          "output_type": "stream",
          "name": "stdout",
          "text": [
            "[0, 0, 0]\n"
          ]
        }
      ]
    },
    {
      "cell_type": "code",
      "source": [],
      "metadata": {
        "id": "_G52ajguSq_E"
      },
      "execution_count": null,
      "outputs": []
    },
    {
      "cell_type": "code",
      "source": [
        "lista = [1, 2, [3, 4, 'hello']]\n",
        "lista[2][2] = 'goodbye'\n",
        "print(lista)\n"
      ],
      "metadata": {
        "colab": {
          "base_uri": "https://localhost:8080/"
        },
        "id": "WJBS2_a8Qwza",
        "outputId": "5db6ed14-f71a-4277-844c-e119939c0b03"
      },
      "execution_count": null,
      "outputs": [
        {
          "output_type": "stream",
          "name": "stdout",
          "text": [
            "[1, 2, [3, 4, 'goodbye']]\n"
          ]
        }
      ]
    },
    {
      "cell_type": "code",
      "source": [
        "lista = [5, 3, 4, 6, 1]\n",
        "lista.sort()\n",
        "print(lista)"
      ],
      "metadata": {
        "colab": {
          "base_uri": "https://localhost:8080/"
        },
        "id": "6Z-tLZyPVNDj",
        "outputId": "5e4499f1-e052-47dc-f7ea-248f6b45f599"
      },
      "execution_count": null,
      "outputs": [
        {
          "output_type": "stream",
          "name": "stdout",
          "text": [
            "[1, 3, 4, 5, 6]\n"
          ]
        }
      ]
    },
    {
      "cell_type": "code",
      "source": [
        "d = {'simple key':'hello'}\n",
        "d['simple key']\n"
      ],
      "metadata": {
        "colab": {
          "base_uri": "https://localhost:8080/",
          "height": 36
        },
        "id": "yQddt_DnVY-7",
        "outputId": "07cece77-f9f1-407f-939b-ef99ccbd2e7c"
      },
      "execution_count": null,
      "outputs": [
        {
          "output_type": "execute_result",
          "data": {
            "text/plain": [
              "'hello'"
            ],
            "application/vnd.google.colaboratory.intrinsic+json": {
              "type": "string"
            }
          },
          "metadata": {},
          "execution_count": 45
        }
      ]
    },
    {
      "cell_type": "code",
      "source": [
        "d = {'k1': {'k2': 'hello'}}\n",
        "d['k1']['k2'][:]"
      ],
      "metadata": {
        "colab": {
          "base_uri": "https://localhost:8080/",
          "height": 36
        },
        "id": "vypTeEYrW2aP",
        "outputId": "c83bb98b-631c-4c4f-b194-5139ea3ce064"
      },
      "execution_count": null,
      "outputs": [
        {
          "output_type": "execute_result",
          "data": {
            "text/plain": [
              "'hello'"
            ],
            "application/vnd.google.colaboratory.intrinsic+json": {
              "type": "string"
            }
          },
          "metadata": {},
          "execution_count": 51
        }
      ]
    },
    {
      "cell_type": "code",
      "source": [
        "d = {'k1': [1, 2, {'k2': 'this is tricky', {'tough': [1, 2, ['hello']]}}]}\n"
      ],
      "metadata": {
        "colab": {
          "base_uri": "https://localhost:8080/",
          "height": 106
        },
        "id": "aTcf1-UgXgHU",
        "outputId": "d8f51296-8b13-4a73-c484-f481bd358f0a"
      },
      "execution_count": null,
      "outputs": [
        {
          "output_type": "error",
          "ename": "SyntaxError",
          "evalue": "':' expected after dictionary key (<ipython-input-52-0437b92abb1b>, line 1)",
          "traceback": [
            "\u001b[0;36m  File \u001b[0;32m\"<ipython-input-52-0437b92abb1b>\"\u001b[0;36m, line \u001b[0;32m1\u001b[0m\n\u001b[0;31m    d = {'k1': [1, 2, {'k2': 'this is tricky', {'tough': [1, 2, ['hello']]}}]}\u001b[0m\n\u001b[0m                                                                          ^\u001b[0m\n\u001b[0;31mSyntaxError\u001b[0m\u001b[0;31m:\u001b[0m ':' expected after dictionary key\n"
          ]
        }
      ]
    },
    {
      "cell_type": "code",
      "source": [
        "lista = [1, 2, 2, 33, 4, 4, 11, 22, 3, 3, 2]\n",
        "lista = set(lista)\n",
        "print(lista)\n",
        "\n"
      ],
      "metadata": {
        "colab": {
          "base_uri": "https://localhost:8080/"
        },
        "id": "5Ei6R9GXYzbS",
        "outputId": "1f53adcd-1484-4b59-e06b-57ea120debdb"
      },
      "execution_count": null,
      "outputs": [
        {
          "output_type": "stream",
          "name": "stdout",
          "text": [
            "{1, 2, 33, 4, 3, 11, 22}\n"
          ]
        }
      ]
    },
    {
      "cell_type": "code",
      "source": [
        "t = True\n",
        "f = False\n",
        "\n",
        "if 2 > 3:\n",
        "  print(t)\n",
        "else:\n",
        "  print(f)"
      ],
      "metadata": {
        "colab": {
          "base_uri": "https://localhost:8080/"
        },
        "id": "KDVjJqD9a0Dk",
        "outputId": "48d1d10e-92f3-466b-8baf-93c3ff864273"
      },
      "execution_count": null,
      "outputs": [
        {
          "output_type": "stream",
          "name": "stdout",
          "text": [
            "False\n"
          ]
        }
      ]
    },
    {
      "cell_type": "code",
      "source": [
        "t = True\n",
        "f = False\n",
        "if 3 <= 2:\n",
        "  print(t)\n",
        "else:\n",
        "  print(f)"
      ],
      "metadata": {
        "colab": {
          "base_uri": "https://localhost:8080/"
        },
        "id": "Pf4BbTVCbhU9",
        "outputId": "0441e3fc-b37a-45f7-cc4f-c84b093f92f0"
      },
      "execution_count": null,
      "outputs": [
        {
          "output_type": "stream",
          "name": "stdout",
          "text": [
            "False\n"
          ]
        }
      ]
    },
    {
      "cell_type": "code",
      "source": [
        "t = True\n",
        "f = False\n",
        "if 3 == 2.0:\n",
        "  print(t)\n",
        "else:\n",
        "  print(f)"
      ],
      "metadata": {
        "colab": {
          "base_uri": "https://localhost:8080/"
        },
        "id": "m0cHZiONbty1",
        "outputId": "534e1d41-e1fb-4551-cade-76d09fc5030f"
      },
      "execution_count": null,
      "outputs": [
        {
          "output_type": "stream",
          "name": "stdout",
          "text": [
            "False\n"
          ]
        }
      ]
    },
    {
      "cell_type": "code",
      "source": [
        "t = True\n",
        "f = False\n",
        "\n",
        "if 4**0.5 != 2:\n",
        "  print(t)\n",
        "else:\n",
        "  print(f)"
      ],
      "metadata": {
        "colab": {
          "base_uri": "https://localhost:8080/"
        },
        "id": "1U49ZMfkb3Tr",
        "outputId": "c1676cd0-027e-4d4a-b1f1-d0a339c7c0d0"
      },
      "execution_count": null,
      "outputs": [
        {
          "output_type": "stream",
          "name": "stdout",
          "text": [
            "False\n"
          ]
        }
      ]
    },
    {
      "cell_type": "code",
      "source": [
        "lista1 = [1, 2, [3, 4]]\n",
        "lista2 = [1, 2, {'k1': 4}]\n",
        "\n",
        "t = True\n",
        "f = False\n",
        "\n",
        "if lista1[2][0] >= lista2[2]['k1']:\n",
        "  print(t)\n",
        "else:\n",
        "  print(f)\n"
      ],
      "metadata": {
        "colab": {
          "base_uri": "https://localhost:8080/"
        },
        "id": "zL7d8x-8cIln",
        "outputId": "8ea87dfd-4d53-4c99-e361-62f3c0ee68a2"
      },
      "execution_count": null,
      "outputs": [
        {
          "output_type": "stream",
          "name": "stdout",
          "text": [
            "False\n"
          ]
        }
      ]
    }
  ]
}