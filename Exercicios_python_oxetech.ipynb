{
  "cells": [
    {
      "cell_type": "markdown",
      "metadata": {
        "id": "view-in-github",
        "colab_type": "text"
      },
      "source": [
        "<a href=\"https://colab.research.google.com/github/Layzafa/programacao_python/blob/main/Exercicios_python_oxetech.ipynb\" target=\"_parent\"><img src=\"https://colab.research.google.com/assets/colab-badge.svg\" alt=\"Open In Colab\"/></a>"
      ]
    },
    {
      "cell_type": "code",
      "execution_count": null,
      "metadata": {
        "colab": {
          "base_uri": "https://localhost:8080/"
        },
        "id": "2FUnsb-z1aaG",
        "outputId": "fe5bda76-cc23-4693-d18f-acb892b669c8"
      },
      "outputs": [
        {
          "name": "stdout",
          "output_type": "stream",
          "text": [
            "Insira dois numeros:1\n",
            "10\n",
            "3\n",
            "5\n",
            "7\n",
            "9\n"
          ]
        }
      ],
      "source": [
        "# Encontrar os números ímpares no intervalo de números dados\n",
        "\n",
        "primeiro = int(input('Insira dois numeros: '))\n",
        "segundo = int(input())\n",
        "while primeiro < segundo:\n",
        "  primeiro += 1\n",
        "  if primeiro % 2 == 1:\n",
        "    print(primeiro)"
      ]
    },
    {
      "cell_type": "code",
      "execution_count": null,
      "metadata": {
        "colab": {
          "base_uri": "https://localhost:8080/"
        },
        "id": "TYmTzT1q3Gti",
        "outputId": "e02fa6e9-bc3f-4a9c-e148-45fd2ce1cb71"
      },
      "outputs": [
        {
          "name": "stdout",
          "output_type": "stream",
          "text": [
            "5\n",
            "120\n"
          ]
        }
      ],
      "source": [
        "# Fatorial de um número\n",
        "\n",
        "number = int(input())\n",
        "fat = 1\n",
        "while number != 0:\n",
        "  fat *= number\n",
        "  number -= 1\n",
        "print(fat)"
      ]
    },
    {
      "cell_type": "code",
      "execution_count": null,
      "metadata": {
        "colab": {
          "base_uri": "https://localhost:8080/"
        },
        "id": "4Dwhai1M7OsR",
        "outputId": "c720f3bb-d053-471e-8c45-e47e4025ae2f"
      },
      "outputs": [
        {
          "name": "stdout",
          "output_type": "stream",
          "text": [
            "1\n",
            "2\n",
            "3\n",
            "4\n",
            "5\n",
            "-1\n",
            "7.5\n"
          ]
        }
      ],
      "source": [
        "# Recebe sequência de números e calcula a média deles\n",
        "\n",
        "media = 0\n",
        "while True:\n",
        "  x = float(input())\n",
        "  if x > 0:\n",
        "    media += x\n",
        "  elif x < 0:\n",
        "    print(media/2)\n",
        "    break"
      ]
    },
    {
      "cell_type": "code",
      "execution_count": null,
      "metadata": {
        "colab": {
          "base_uri": "https://localhost:8080/"
        },
        "id": "8bvyJdoLAD5d",
        "outputId": "8c0f1d17-d79b-430c-f3d1-d686c0d4e75a"
      },
      "outputs": [
        {
          "name": "stdout",
          "output_type": "stream",
          "text": [
            "pessoa\n",
            "3\n"
          ]
        }
      ],
      "source": [
        "# Conta a quantidade de vogais\n",
        "\n",
        "string = input()\n",
        "vogais = 0\n",
        "for i in string:\n",
        "  if i == 'a' or i == 'e' or i == 'i' or i == 'o' or i == 'u':\n",
        "    vogais += 1\n",
        "print(vogais)"
      ]
    },
    {
      "cell_type": "code",
      "execution_count": null,
      "metadata": {
        "colab": {
          "base_uri": "https://localhost:8080/"
        },
        "id": "G3X39fvpAz-1",
        "outputId": "6c38f149-7a49-458e-83f9-fbc4dc62546f"
      },
      "outputs": [
        {
          "name": "stdout",
          "output_type": "stream",
          "text": [
            "20\n",
            "20\n",
            "18\n",
            "16\n",
            "14\n",
            "12\n",
            "10\n",
            "8\n",
            "6\n",
            "4\n",
            "2\n",
            "0\n"
          ]
        }
      ],
      "source": [
        "# Números pares de uma sequência\n",
        "\n",
        "num = int(input())\n",
        "while num >= 0:\n",
        "  if num % 2 == 0:\n",
        "    print(num)\n",
        "  num -= 1"
      ]
    },
    {
      "cell_type": "code",
      "execution_count": null,
      "metadata": {
        "colab": {
          "base_uri": "https://localhost:8080/"
        },
        "id": "zYtakxQzCvAH",
        "outputId": "1e2cca78-0505-453c-d7d4-bfe1da114e18"
      },
      "outputs": [
        {
          "name": "stdout",
          "output_type": "stream",
          "text": [
            "osso\n",
            "É um palíndromo!\n"
          ]
        }
      ],
      "source": [
        "str = input()\n",
        "str_new = str[::-1]\n",
        "\n",
        "if str == str_new:\n",
        "  print('É um palíndromo!')\n",
        "else:\n",
        "  print('Não é um palíndromo!')"
      ]
    },
    {
      "cell_type": "code",
      "execution_count": null,
      "metadata": {
        "colab": {
          "base_uri": "https://localhost:8080/"
        },
        "id": "IG9t-zu7GN52",
        "outputId": "7d34d6b0-e41e-4d8c-a747-0c4f45584765"
      },
      "outputs": [
        {
          "name": "stdout",
          "output_type": "stream",
          "text": [
            "342\n",
            "9\n"
          ]
        }
      ],
      "source": [
        "num = input()\n",
        "x = 0\n",
        "for i in num:\n",
        "  x += int(i)\n",
        "print(x)"
      ]
    },
    {
      "cell_type": "code",
      "execution_count": 5,
      "metadata": {
        "colab": {
          "base_uri": "https://localhost:8080/"
        },
        "id": "y6mBoTWgHDkx",
        "outputId": "61526c73-a6f9-49d2-f99e-33ab2a31bf10"
      },
      "outputs": [
        {
          "output_type": "stream",
          "name": "stdout",
          "text": [
            "Bem-vindo ao jogo da adivinhação!\n",
            "Tente advinhar um número entre 1 e 100\n",
            "Escolha um número: \n",
            "50\n",
            "Digite um número maior!\n",
            "70\n",
            "Digite um número maior!\n",
            "80\n",
            "Digite um número maior!\n",
            "95\n",
            "Digite um número menor!\n",
            "94\n",
            "Digite um número menor!\n",
            "92\n",
            "Digite um número menor!\n",
            "85\n",
            "Digite um número menor!\n",
            "80\n",
            "Digite um número maior!\n",
            "84\n",
            "Digite um número menor!\n",
            "81\n",
            "Digite um número maior!\n",
            "82\n",
            "Parabéns!\n",
            "Você acertou!\n",
            "82\n"
          ]
        }
      ],
      "source": [
        "import random\n",
        "\n",
        "lista = [i for i in range(0, 101)]\n",
        "numero_sorteado = random.choice(lista)\n",
        "print('Bem-vindo ao jogo da adivinhação!\\nTente advinhar um número entre 1 e 100\\nEscolha um número: ')\n",
        "# print(numero_sorteado)\n",
        "\n",
        "while True:\n",
        "  recebido = int(input())\n",
        "  if recebido == numero_sorteado:\n",
        "    print('Parabéns!\\nVocê acertou!')\n",
        "    print(numero_sorteado)\n",
        "    break\n",
        "  else:\n",
        "    if recebido > numero_sorteado:\n",
        "      print('Digite um número menor!')\n",
        "      continue\n",
        "    elif recebido < numero_sorteado:\n",
        "      print('Digite um número maior!')\n",
        "      continue"
      ]
    }
  ],
  "metadata": {
    "colab": {
      "provenance": [],
      "authorship_tag": "ABX9TyOe7fNLnK5Am854prsQpdLy",
      "include_colab_link": true
    },
    "kernelspec": {
      "display_name": "Python 3",
      "name": "python3"
    },
    "language_info": {
      "name": "python"
    }
  },
  "nbformat": 4,
  "nbformat_minor": 0
}